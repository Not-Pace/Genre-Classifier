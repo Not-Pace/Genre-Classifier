{
  "nbformat": 4,
  "nbformat_minor": 0,
  "metadata": {
    "colab": {
      "name": "GenreClassifier.ipynb",
      "provenance": [],
      "collapsed_sections": [],
      "include_colab_link": true
    },
    "kernelspec": {
      "name": "python3",
      "display_name": "Python 3"
    },
    "accelerator": "GPU"
  },
  "cells": [
    {
      "cell_type": "markdown",
      "metadata": {
        "id": "view-in-github",
        "colab_type": "text"
      },
      "source": [
        "<a href=\"https://colab.research.google.com/github/Not-Pace/Genre-Classifier/blob/main/TransferLearning_VGG16.ipynb\" target=\"_parent\"><img src=\"https://colab.research.google.com/assets/colab-badge.svg\" alt=\"Open In Colab\"/></a>"
      ]
    },
    {
      "cell_type": "markdown",
      "metadata": {
        "id": "YqzDTmZeOFX_"
      },
      "source": [
        "#**Genre Classifier using Images (Transfer Learning with VGG16)**\n",
        "\n",
        "Our first attempt was based around using images from the dataset in conjunction with the VGG16 dataset for feature extraction. We used transfer learning to create a simple CNN that could extract features from the mel-spectrograms of the songs and try predicting its genre.\n",
        "\n",
        "\n"
      ]
    },
    {
      "cell_type": "code",
      "metadata": {
        "id": "S9r0lEvxeoZu"
      },
      "source": [
        "import librosa\n",
        "import pandas as pd\n",
        "import numpy as np\n",
        "\n",
        "import matplotlib.pyplot as plt\n",
        "%matplotlib inline\n",
        "\n",
        "import os\n",
        "from PIL import Image\n",
        "import pathlib\n",
        "import csv\n",
        "\n",
        "from sklearn.preprocessing import OneHotEncoder\n",
        "import tensorflow as tf\n",
        "from tensorflow.keras.applications.vgg16 import VGG16\n",
        "\n",
        "from tensorflow.keras import layers\n",
        "from tensorflow.keras import regularizers\n",
        "\n",
        "# Preprocessing\n",
        "from sklearn.model_selection import train_test_split\n",
        "from sklearn.preprocessing import LabelEncoder, StandardScaler\n",
        "\n",
        "#Keras\n",
        "import keras"
      ],
      "execution_count": null,
      "outputs": []
    },
    {
      "cell_type": "code",
      "metadata": {
        "id": "MWAYL0dOkDqc"
      },
      "source": [
        "from google.colab import drive"
      ],
      "execution_count": null,
      "outputs": []
    },
    {
      "cell_type": "code",
      "metadata": {
        "id": "UTb5jxYNO7EK",
        "outputId": "50429ad7-564f-4fce-fa49-fce417e34211",
        "colab": {
          "base_uri": "https://localhost:8080/",
          "height": 35
        }
      },
      "source": [
        "drive.mount('/content/gdrive/')"
      ],
      "execution_count": null,
      "outputs": [
        {
          "output_type": "stream",
          "text": [
            "Mounted at /content/gdrive/\n"
          ],
          "name": "stdout"
        }
      ]
    },
    {
      "cell_type": "code",
      "metadata": {
        "id": "PPI_MVe38r1_"
      },
      "source": [
        "train_path = '/content/gdrive/My Drive/Genre-Classifier/Data/train'\n",
        "test_path = '/content/gdrive/My Drive/Genre-Classifier/Data/test'"
      ],
      "execution_count": null,
      "outputs": []
    },
    {
      "cell_type": "code",
      "metadata": {
        "id": "UFVcPFE2-I7B"
      },
      "source": [
        "train_gen = tf.keras.preprocessing.image.ImageDataGenerator(rescale = 1./255.)"
      ],
      "execution_count": null,
      "outputs": []
    },
    {
      "cell_type": "code",
      "metadata": {
        "id": "0WeEFQGsLPt-"
      },
      "source": [
        "test_gen = tf.keras.preprocessing.image.ImageDataGenerator(rescale=1./255.)"
      ],
      "execution_count": null,
      "outputs": []
    },
    {
      "cell_type": "code",
      "metadata": {
        "id": "tRxemfEB-_yO",
        "outputId": "c694717f-dff6-44f1-c41f-c37bdba97aa5",
        "colab": {
          "base_uri": "https://localhost:8080/",
          "height": 54
        }
      },
      "source": [
        "datatrain_generator = train_gen.flow_from_directory(train_path, target_size=(300,300), batch_size=42, class_mode = 'categorical')\n",
        "datatest_generator = test_gen.flow_from_directory(test_path, target_size=(300,300), batch_size=42, class_mode = 'categorical')"
      ],
      "execution_count": null,
      "outputs": [
        {
          "output_type": "stream",
          "text": [
            "Found 818 images belonging to 10 classes.\n",
            "Found 190 images belonging to 10 classes.\n"
          ],
          "name": "stdout"
        }
      ]
    },
    {
      "cell_type": "code",
      "metadata": {
        "id": "jPSJFJqOBAqN",
        "outputId": "133faaec-377b-43ca-8686-69e36f850cd7",
        "colab": {
          "base_uri": "https://localhost:8080/",
          "height": 74
        }
      },
      "source": [
        "model = VGG16(include_top = False, input_shape = (300,300,3))"
      ],
      "execution_count": null,
      "outputs": [
        {
          "output_type": "stream",
          "text": [
            "Downloading data from https://storage.googleapis.com/tensorflow/keras-applications/vgg16/vgg16_weights_tf_dim_ordering_tf_kernels_notop.h5\n",
            "58892288/58889256 [==============================] - 1s 0us/step\n"
          ],
          "name": "stdout"
        }
      ]
    },
    {
      "cell_type": "code",
      "metadata": {
        "id": "UrW6fKD5BGXn"
      },
      "source": [
        "for layer in model.layers:\n",
        "  layer.trainable = False"
      ],
      "execution_count": null,
      "outputs": []
    },
    {
      "cell_type": "code",
      "metadata": {
        "id": "FnyQjUw6Bs3c"
      },
      "source": [
        "output = model.layers[-1].output\n",
        "model_final = tf.keras.layers.Flatten()(output)\n",
        "model_final = tf.keras.layers.Dense(512, kernel_regularizer='l2', activation='relu')(model_final)\n",
        "model_final = tf.keras.layers.Dense(64, kernel_regularizer='l2', activation='relu')(model_final)\n",
        "model_final = tf.keras.layers.Dense(10, activation='softmax')(model_final)"
      ],
      "execution_count": null,
      "outputs": []
    },
    {
      "cell_type": "code",
      "metadata": {
        "id": "3P3G472iCMTU"
      },
      "source": [
        "model = tf.keras.models.Model(model.input,model_final)"
      ],
      "execution_count": null,
      "outputs": []
    },
    {
      "cell_type": "code",
      "metadata": {
        "id": "Wd1UdLoKZuIp"
      },
      "source": [
        "opt = keras.optimizers.RMSprop(learning_rate=0.0001)"
      ],
      "execution_count": null,
      "outputs": []
    },
    {
      "cell_type": "code",
      "metadata": {
        "id": "WOAT50bhCTL0",
        "outputId": "e2ea80c8-912d-47c2-b3a9-d18c4c484c5d",
        "colab": {
          "base_uri": "https://localhost:8080/"
        }
      },
      "source": [
        "model.compile(loss = 'categorical_crossentropy', optimizer=opt, metrics=['acc'])\n",
        "history = model.fit(datatrain_generator, epochs=10, validation_data = datatest_generator, verbose = 1)\n",
        "\n",
        "# model.save('/content/gdrive/My Drive/Genre-Classifier/bruh_willthiswork.h5')\n",
        "\n",
        "acc = history.history['acc']\n",
        "val_acc = history.history['val_acc']\n",
        "loss = history.history['loss']\n",
        "val_loss = history.history['val_loss']\n",
        "\n",
        "epochs = range(len(acc))\n",
        "\n",
        "plt.plot(epochs, acc, 'r', label='Training accuracy')\n",
        "plt.plot(epochs, val_acc, 'b', label='Validation accuracy')\n",
        "plt.title('Training and validation accuracy')\n",
        "plt.legend(loc=0)\n",
        "plt.figure()\n",
        "plt.show()"
      ],
      "execution_count": null,
      "outputs": [
        {
          "output_type": "stream",
          "text": [
            "Epoch 1/10\n",
            "20/20 [==============================] - 580s 29s/step - loss: 10.6390 - acc: 0.2372 - val_loss: 8.5892 - val_acc: 0.2895\n",
            "Epoch 2/10\n",
            "20/20 [==============================] - 9s 473ms/step - loss: 7.3008 - acc: 0.3826 - val_loss: 6.3267 - val_acc: 0.3211\n",
            "Epoch 3/10\n",
            "20/20 [==============================] - 10s 478ms/step - loss: 5.2757 - acc: 0.4829 - val_loss: 4.7561 - val_acc: 0.4368\n",
            "Epoch 4/10\n",
            "20/20 [==============================] - 10s 477ms/step - loss: 4.0369 - acc: 0.5269 - val_loss: 3.8295 - val_acc: 0.4263\n",
            "Epoch 5/10\n",
            "20/20 [==============================] - 10s 486ms/step - loss: 3.2486 - acc: 0.5941 - val_loss: 3.3794 - val_acc: 0.4579\n",
            "Epoch 6/10\n",
            "20/20 [==============================] - 10s 482ms/step - loss: 2.8482 - acc: 0.6247 - val_loss: 3.1264 - val_acc: 0.4474\n",
            "Epoch 7/10\n",
            "20/20 [==============================] - 10s 484ms/step - loss: 2.6346 - acc: 0.6601 - val_loss: 3.0875 - val_acc: 0.4474\n",
            "Epoch 8/10\n",
            "20/20 [==============================] - 10s 484ms/step - loss: 2.5044 - acc: 0.6663 - val_loss: 3.0679 - val_acc: 0.4158\n",
            "Epoch 9/10\n",
            "20/20 [==============================] - 10s 485ms/step - loss: 2.3361 - acc: 0.6883 - val_loss: 2.8172 - val_acc: 0.4789\n",
            "Epoch 10/10\n",
            "20/20 [==============================] - 10s 488ms/step - loss: 2.2752 - acc: 0.7017 - val_loss: 3.0842 - val_acc: 0.4474\n"
          ],
          "name": "stdout"
        },
        {
          "output_type": "display_data",
          "data": {
            "image/png": "[encoded data removed]",
            "text/plain": [
              "<Figure size 432x288 with 1 Axes>"
            ]
          },
          "metadata": {
            "tags": [],
            "needs_background": "light"
          }
        },
        {
          "output_type": "display_data",
          "data": {
            "text/plain": [
              "<Figure size 432x288 with 0 Axes>"
            ]
          },
          "metadata": {
            "tags": []
          }
        }
      ]
    },
    {
      "cell_type": "markdown",
      "metadata": {
        "id": "gdzChkUwC4MX"
      },
      "source": [
        "What we found here was rather odd, in that the validation accuracy was erratic and all over the charts even though the training accuracy was on track. We believe that one of the obvious problems here was overfitting, but a change in the base model (from VGG16) to something else could also make this approach better. Regardless, we decided to make a model from scratch after this instead of exploring transfer learning approaches further."
      ]
    }
  ]
}