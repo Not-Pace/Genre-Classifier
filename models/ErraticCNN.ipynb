{
  "nbformat": 4,
  "nbformat_minor": 0,
  "metadata": {
    "colab": {
      "name": "GenreClassifierTry3.ipynb",
      "provenance": [],
      "collapsed_sections": [],
      "include_colab_link": true
    },
    "kernelspec": {
      "name": "python3",
      "display_name": "Python 3"
    },
    "accelerator": "GPU"
  },
  "cells": [
    {
      "cell_type": "markdown",
      "metadata": {
        "id": "view-in-github",
        "colab_type": "text"
      },
      "source": [
        "<a href=\"https://colab.research.google.com/github/Not-Pace/Genre-Classifier/blob/main/ErraticCNN.ipynb\" target=\"_parent\"><img src=\"https://colab.research.google.com/assets/colab-badge.svg\" alt=\"Open In Colab\"/></a>"
      ]
    },
    {
      "cell_type": "markdown",
      "metadata": {
        "id": "JVwB9D4LOeha"
      },
      "source": [
        "#**Genre Classifier using Images**\n",
        "\n",
        "Based on our experience with transfer learning, we decided to create a model from the ground up. We used keras, split the train and test sets ourselves (a rookie mistake), and found some very interesting problems with the model."
      ]
    },
    {
      "cell_type": "code",
      "metadata": {
        "id": "XTdZr_cwOFHo"
      },
      "source": [
        "import librosa\n",
        "import pandas as pd\n",
        "import numpy as np\n",
        "\n",
        "import matplotlib.pyplot as plt\n",
        "%matplotlib inline\n",
        "\n",
        "import os\n",
        "from PIL import Image\n",
        "import pathlib\n",
        "import csv\n",
        "\n",
        "import tensorflow as tf\n",
        "from tensorflow.keras import layers\n",
        "from tensorflow.keras import regularizers\n",
        "\n",
        "# Preprocessing\n",
        "from sklearn.model_selection import train_test_split\n",
        "from sklearn.preprocessing import LabelEncoder, StandardScaler\n",
        "\n",
        "#Keras\n",
        "import keras"
      ],
      "execution_count": null,
      "outputs": []
    },
    {
      "cell_type": "code",
      "metadata": {
        "id": "ENzlpjFQOmhn"
      },
      "source": [
        "from google.colab import drive"
      ],
      "execution_count": null,
      "outputs": []
    },
    {
      "cell_type": "code",
      "metadata": {
        "id": "n0bbVDcTOoTj",
        "outputId": "d81f9c19-3646-4c49-b71b-072524f146d8",
        "colab": {
          "base_uri": "https://localhost:8080/",
          "height": 55
        }
      },
      "source": [
        "drive.mount('/content/gdrive/')"
      ],
      "execution_count": null,
      "outputs": [
        {
          "output_type": "stream",
          "text": [
            "Drive already mounted at /content/gdrive/; to attempt to forcibly remount, call drive.mount(\"/content/gdrive/\", force_remount=True).\n"
          ],
          "name": "stdout"
        }
      ]
    },
    {
      "cell_type": "code",
      "metadata": {
        "id": "N6hvAAWWOpYJ"
      },
      "source": [
        "train_path = '/content/gdrive/My Drive/Genre-Classifier/Data/train'\n",
        "test_path = '/content/gdrive/My Drive/Genre-Classifier/Data/test'"
      ],
      "execution_count": null,
      "outputs": []
    },
    {
      "cell_type": "code",
      "metadata": {
        "id": "7s3aejJ4Owct"
      },
      "source": [
        "train_gen = tf.keras.preprocessing.image.ImageDataGenerator(rescale = 1./255.)"
      ],
      "execution_count": null,
      "outputs": []
    },
    {
      "cell_type": "code",
      "metadata": {
        "id": "lt1jdrXIOy_a"
      },
      "source": [
        "test_gen = tf.keras.preprocessing.image.ImageDataGenerator(rescale=1./255.)"
      ],
      "execution_count": null,
      "outputs": []
    },
    {
      "cell_type": "code",
      "metadata": {
        "id": "bSs1li8vOz_-",
        "outputId": "6207eed0-c0da-4046-df22-d70c6856d267",
        "colab": {
          "base_uri": "https://localhost:8080/",
          "height": 54
        }
      },
      "source": [
        "datatrain_generator = train_gen.flow_from_directory(train_path, target_size=(300,300), batch_size=42, class_mode = 'categorical')\n",
        "datatest_generator = test_gen.flow_from_directory(test_path, target_size=(300,300), batch_size=42, class_mode = 'categorical')"
      ],
      "execution_count": null,
      "outputs": [
        {
          "output_type": "stream",
          "text": [
            "Found 818 images belonging to 10 classes.\n",
            "Found 190 images belonging to 10 classes.\n"
          ],
          "name": "stdout"
        }
      ]
    },
    {
      "cell_type": "code",
      "metadata": {
        "id": "61nyXTb6O2KK"
      },
      "source": [
        "def plot_history(history):\n",
        "\n",
        "    fig, axs = plt.subplots(2)\n",
        "\n",
        "    # create accuracy sublpot\n",
        "    axs[0].plot(history.history[\"accuracy\"], label=\"train accuracy\")\n",
        "    axs[0].plot(history.history[\"val_accuracy\"], label=\"test accuracy\")\n",
        "    axs[0].set_ylabel(\"Accuracy\")\n",
        "    axs[0].legend(loc=\"lower right\")\n",
        "    axs[0].set_title(\"Accuracy eval\")\n",
        "    print('\\n')\n",
        "    # create error sublpot\n",
        "    axs[1].plot(history.history[\"loss\"], label=\"train error\")\n",
        "    axs[1].plot(history.history[\"val_loss\"], label=\"test error\")\n",
        "    axs[1].set_ylabel(\"Error\")\n",
        "    axs[1].set_xlabel(\"Epoch\")\n",
        "    axs[1].legend(loc=\"upper right\")\n",
        "    axs[1].set_title(\"Error eval\")\n",
        "\n",
        "    plt.show()\n",
        "\n",
        "def build_model():\n",
        "\n",
        "    # build network topology\n",
        "    model = keras.Sequential()\n",
        "\n",
        "    model.add(keras.layers.Conv2D(32, (3, 3), activation='relu'))\n",
        "    model.add(keras.layers.MaxPooling2D((3, 3), strides=(2, 2), padding='same'))\n",
        "    model.add(keras.layers.BatchNormalization())\n",
        "\n",
        "    model.add(keras.layers.Conv2D(32, (3, 3), activation='relu'))\n",
        "    model.add(keras.layers.MaxPooling2D((3, 3), strides=(2, 2), padding='same'))\n",
        "    model.add(keras.layers.BatchNormalization())\n",
        "\n",
        "    model.add(keras.layers.Conv2D(32, (2, 2), activation='relu'))\n",
        "    model.add(keras.layers.MaxPooling2D((2, 2), strides=(2, 2), padding='same'))\n",
        "    model.add(keras.layers.BatchNormalization())\n",
        "\n",
        "    model.add(keras.layers.Flatten())\n",
        "    model.add(keras.layers.Dense(64, activation='relu'))\n",
        "    model.add(keras.layers.Dropout(0.3))\n",
        "    model.add(keras.layers.Dense(10, activation='softmax'))\n",
        "\n",
        "    return model\n",
        "\n",
        "\n",
        "def predict(model, X, y):\n",
        "\n",
        "    # add a dimension to input data for sample - model.predict() expects a 4d array in this case\n",
        "    X = X[np.newaxis, ...] # array shape (1, 130, 13, 1)\n",
        "\n",
        "    # perform prediction\n",
        "    prediction = model.predict(X)\n",
        "\n",
        "    # get index with max value\n",
        "    predicted_index = np.argmax(prediction, axis=1)\n",
        "    \n",
        "    # get mappings for target and predicted label\n",
        "    target = z[y]\n",
        "    predicted = z[predicted_index]\n",
        "\n",
        "    print(\"Target: {}, Predicted label: {}\".format(target, predicted))"
      ],
      "execution_count": null,
      "outputs": []
    },
    {
      "cell_type": "code",
      "metadata": {
        "id": "3WICfhROP9eM"
      },
      "source": [
        "model = build_model()"
      ],
      "execution_count": null,
      "outputs": []
    },
    {
      "cell_type": "code",
      "metadata": {
        "id": "DRcqA-SVPKh2",
        "outputId": "dee806e4-771d-4a49-de74-8aabe471d763",
        "colab": {
          "base_uri": "https://localhost:8080/",
          "height": 1000
        }
      },
      "source": [
        "opt = keras.optimizers.RMSprop(learning_rate=0.0001)\n",
        "model.compile(optimizer=opt,\n",
        "              loss='categorical_crossentropy',\n",
        "              metrics=['accuracy'])\n",
        "\n",
        "history = model.fit(datatrain_generator, epochs=20, validation_data = datatest_generator, verbose = 1)\n",
        "model.summary()\n",
        "\n",
        "plot_history(history)"
      ],
      "execution_count": null,
      "outputs": [
        {
          "output_type": "stream",
          "text": [
            "Epoch 1/20\n",
            "20/20 [==============================] - 6s 287ms/step - loss: 3.7587 - accuracy: 0.1773 - val_loss: 2.3246 - val_accuracy: 0.1000\n",
            "Epoch 2/20\n",
            "20/20 [==============================] - 5s 274ms/step - loss: 2.0103 - accuracy: 0.2689 - val_loss: 2.6213 - val_accuracy: 0.1000\n",
            "Epoch 3/20\n",
            "20/20 [==============================] - 5s 274ms/step - loss: 1.8651 - accuracy: 0.3032 - val_loss: 2.9572 - val_accuracy: 0.1000\n",
            "Epoch 4/20\n",
            "20/20 [==============================] - 6s 278ms/step - loss: 1.7750 - accuracy: 0.3399 - val_loss: 3.6475 - val_accuracy: 0.1000\n",
            "Epoch 5/20\n",
            "20/20 [==============================] - 5s 274ms/step - loss: 1.6216 - accuracy: 0.4046 - val_loss: 4.6515 - val_accuracy: 0.1000\n",
            "Epoch 6/20\n",
            "20/20 [==============================] - 5s 275ms/step - loss: 1.5048 - accuracy: 0.4328 - val_loss: 6.1467 - val_accuracy: 0.1000\n",
            "Epoch 7/20\n",
            "20/20 [==============================] - 6s 276ms/step - loss: 1.3996 - accuracy: 0.4804 - val_loss: 6.2567 - val_accuracy: 0.1000\n",
            "Epoch 8/20\n",
            "20/20 [==============================] - 5s 275ms/step - loss: 1.2899 - accuracy: 0.5037 - val_loss: 6.7270 - val_accuracy: 0.1000\n",
            "Epoch 9/20\n",
            "20/20 [==============================] - 5s 273ms/step - loss: 1.2179 - accuracy: 0.5391 - val_loss: 6.7476 - val_accuracy: 0.1000\n",
            "Epoch 10/20\n",
            "20/20 [==============================] - 6s 277ms/step - loss: 1.1210 - accuracy: 0.5477 - val_loss: 7.0768 - val_accuracy: 0.1000\n",
            "Epoch 11/20\n",
            "20/20 [==============================] - 5s 271ms/step - loss: 1.0016 - accuracy: 0.6381 - val_loss: 7.1958 - val_accuracy: 0.1000\n",
            "Epoch 12/20\n",
            "20/20 [==============================] - 5s 272ms/step - loss: 0.9008 - accuracy: 0.6516 - val_loss: 7.3548 - val_accuracy: 0.1000\n",
            "Epoch 13/20\n",
            "20/20 [==============================] - 6s 277ms/step - loss: 0.7632 - accuracy: 0.7262 - val_loss: 6.9241 - val_accuracy: 0.1000\n",
            "Epoch 14/20\n",
            "20/20 [==============================] - 6s 276ms/step - loss: 0.6981 - accuracy: 0.7592 - val_loss: 7.9659 - val_accuracy: 0.1000\n",
            "Epoch 15/20\n",
            "20/20 [==============================] - 5s 274ms/step - loss: 0.6010 - accuracy: 0.7873 - val_loss: 6.7625 - val_accuracy: 0.1000\n",
            "Epoch 16/20\n",
            "20/20 [==============================] - 5s 274ms/step - loss: 0.5983 - accuracy: 0.7946 - val_loss: 7.3065 - val_accuracy: 0.1000\n",
            "Epoch 17/20\n",
            "20/20 [==============================] - 5s 275ms/step - loss: 0.4995 - accuracy: 0.8362 - val_loss: 7.0715 - val_accuracy: 0.1000\n",
            "Epoch 18/20\n",
            "20/20 [==============================] - 6s 278ms/step - loss: 0.3887 - accuracy: 0.8802 - val_loss: 6.1704 - val_accuracy: 0.1000\n",
            "Epoch 19/20\n",
            "20/20 [==============================] - 6s 276ms/step - loss: 0.3837 - accuracy: 0.8704 - val_loss: 6.8012 - val_accuracy: 0.1000\n",
            "Epoch 20/20\n",
            "20/20 [==============================] - 6s 279ms/step - loss: 0.3504 - accuracy: 0.8753 - val_loss: 5.3202 - val_accuracy: 0.1053\n",
            "Model: \"sequential\"\n",
            "_________________________________________________________________\n",
            "Layer (type)                 Output Shape              Param #   \n",
            "=================================================================\n",
            "conv2d (Conv2D)              (None, None, None, 32)    896       \n",
            "_________________________________________________________________\n",
            "max_pooling2d (MaxPooling2D) (None, None, None, 32)    0         \n",
            "_________________________________________________________________\n",
            "batch_normalization (BatchNo (None, None, None, 32)    128       \n",
            "_________________________________________________________________\n",
            "conv2d_1 (Conv2D)            (None, None, None, 32)    9248      \n",
            "_________________________________________________________________\n",
            "max_pooling2d_1 (MaxPooling2 (None, None, None, 32)    0         \n",
            "_________________________________________________________________\n",
            "batch_normalization_1 (Batch (None, None, None, 32)    128       \n",
            "_________________________________________________________________\n",
            "conv2d_2 (Conv2D)            (None, None, None, 32)    4128      \n",
            "_________________________________________________________________\n",
            "max_pooling2d_2 (MaxPooling2 (None, None, None, 32)    0         \n",
            "_________________________________________________________________\n",
            "batch_normalization_2 (Batch (None, None, None, 32)    128       \n",
            "_________________________________________________________________\n",
            "flatten (Flatten)            (None, None)              0         \n",
            "_________________________________________________________________\n",
            "dense (Dense)                (None, 64)                2803776   \n",
            "_________________________________________________________________\n",
            "dropout (Dropout)            (None, 64)                0         \n",
            "_________________________________________________________________\n",
            "dense_1 (Dense)              (None, 10)                650       \n",
            "=================================================================\n",
            "Total params: 2,819,082\n",
            "Trainable params: 2,818,890\n",
            "Non-trainable params: 192\n",
            "_________________________________________________________________\n",
            "\n",
            "\n"
          ],
          "name": "stdout"
        },
        {
          "output_type": "display_data",
          "data": {
            "image/png": "[encoded data removed]",
            "text/plain": [
              "<Figure size 432x288 with 2 Axes>"
            ]
          },
          "metadata": {
            "tags": [],
            "needs_background": "light"
          }
        }
      ]
    },
    {
      "cell_type": "markdown",
      "metadata": {
        "id": "dSJ9B_tlFKY6"
      },
      "source": [
        "# **Results**\n",
        "\n",
        "Pretty much the most important thing to notice here is the fact that the test accuracy is downright 0, and the training accuracy is largely inflated, which means something somewhere just isn't working. The test error was all over the place as well, strengthening my belief that there might be something wrong with the image dataset itself. While Kaggle forums didn't show an issue as such, we decided to take a more rudimentary approach going forward and generated all the images using the audio dataset, and built a model directly on it."
      ]
    }
  ]
}